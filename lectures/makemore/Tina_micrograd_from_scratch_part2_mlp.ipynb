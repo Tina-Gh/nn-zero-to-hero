{
 "cells": [
  {
   "cell_type": "markdown",
   "id": "3635017a-9282-47d9-8151-fdf3e3ab9ada",
   "metadata": {},
   "source": [
    "### Basing the model off of the MLP paper Bengio et al. 2003:\n",
    "\n",
    "https://www.jmlr.org/papers/volume3/bengio03a/bengio03a.pdf\n",
    "\n",
    "(P.S: The paper uses 17000 words and applies word embedding. Here, the data is 'names.txt' and we apply character embedding.)"
   ]
  },
  {
   "cell_type": "code",
   "execution_count": 1,
   "id": "2485bd0e-c121-4695-9568-02105a6e901e",
   "metadata": {},
   "outputs": [],
   "source": [
    "# In the previous code (part 1), we imlemented 'bigram'. \n",
    "# Here in part 2, we are implementing 'mlp'. \n",
    "\n",
    "import torch\n",
    "import torch.nn.functional as F \n",
    "import matplotlib.pyplot as plt \n",
    "%matplotlib inline "
   ]
  },
  {
   "cell_type": "code",
   "execution_count": 7,
   "id": "3929858f-3b57-4675-a02f-0fc31be5ca43",
   "metadata": {},
   "outputs": [
    {
     "name": "stdout",
     "output_type": "stream",
     "text": [
      "['emma', 'olivia', 'ava', 'isabella', 'sophia', 'charlotte', 'mia', 'amelia']\n",
      "32033\n"
     ]
    }
   ],
   "source": [
    "# read in all the words: \n",
    "words = open(\"names.txt\", 'r').read().splitlines()\n",
    "print(words[0:8])\n",
    "print(len(words))"
   ]
  },
  {
   "cell_type": "code",
   "execution_count": 40,
   "id": "6aacb556-d0c4-4544-a570-66963b98b1ee",
   "metadata": {},
   "outputs": [
    {
     "name": "stdout",
     "output_type": "stream",
     "text": [
      "{'a': 1, 'b': 2, 'c': 3, 'd': 4, 'e': 5, 'f': 6, 'g': 7, 'h': 8, 'i': 9, 'j': 10, 'k': 11, 'l': 12, 'm': 13, 'n': 14, 'o': 15, 'p': 16, 'q': 17, 'r': 18, 's': 19, 't': 20, 'u': 21, 'v': 22, 'w': 23, 'x': 24, 'y': 25, 'z': 26, '.': 0}\n",
      "{1: 'a', 2: 'b', 3: 'c', 4: 'd', 5: 'e', 6: 'f', 7: 'g', 8: 'h', 9: 'i', 10: 'j', 11: 'k', 12: 'l', 13: 'm', 14: 'n', 15: 'o', 16: 'p', 17: 'q', 18: 'r', 19: 's', 20: 't', 21: 'u', 22: 'v', 23: 'w', 24: 'x', 25: 'y', 26: 'z', 0: '.'}\n"
     ]
    }
   ],
   "source": [
    "# build the vocabulary of characters to/from integers \n",
    "\n",
    "chars = sorted(list(set(''.join(words))))\n",
    "stoi = {s:i+1 for i,s in enumerate(chars)} \n",
    "stoi['.'] = 0\n",
    "itos = {i:s for s,i in stoi.items()}\n",
    "\n",
    "print(stoi)\n",
    "print(itos)"
   ]
  },
  {
   "cell_type": "code",
   "execution_count": 48,
   "id": "bd2c8dea-3aa5-4276-89e5-df155cdbdeb9",
   "metadata": {},
   "outputs": [
    {
     "data": {
      "text/plain": [
       "'e'"
      ]
     },
     "execution_count": 48,
     "metadata": {},
     "output_type": "execute_result"
    }
   ],
   "source": [
    "ch"
   ]
  },
  {
   "cell_type": "code",
   "execution_count": 69,
   "id": "10e19d93-2e40-404a-8cc0-837e2ee32a69",
   "metadata": {},
   "outputs": [
    {
     "name": "stdout",
     "output_type": "stream",
     "text": [
      "emma\n",
      "... ---> e\n",
      "..e ---> m\n",
      ".em ---> m\n",
      "emm ---> a\n",
      "mma ---> .\n",
      "olivia\n",
      "... ---> o\n",
      "..o ---> l\n",
      ".ol ---> i\n",
      "oli ---> v\n",
      "liv ---> i\n",
      "ivi ---> a\n",
      "via ---> .\n",
      "ava\n",
      "... ---> a\n",
      "..a ---> v\n",
      ".av ---> a\n",
      "ava ---> .\n"
     ]
    }
   ],
   "source": [
    "# building the dataset: \n",
    "\n",
    "block_size = 3 # = context length = how many characters do we take to predict the next one? \n",
    "X, Y = [], [] \n",
    "for w in words[:3]: \n",
    "    \n",
    "    print(w)\n",
    "    context = [0]*block_size # provide padding before the first character \n",
    "    for ch in w + '.':\n",
    "        ix = stoi[ch]\n",
    "        X.append(context) \n",
    "        Y.append(ix)\n",
    "        print(''.join(itos[i] for i in context), '--->', ch) # ch = itos[ix]\n",
    "        context = context[1:] + [ix] #update 'context' \n",
    "X = torch.tensor(X).float()\n",
    "Y = torch.Tensor(Y).float()"
   ]
  },
  {
   "cell_type": "code",
   "execution_count": 75,
   "id": "4b74fa45-c51d-4970-9cbe-f051c39d8a36",
   "metadata": {},
   "outputs": [
    {
     "name": "stdout",
     "output_type": "stream",
     "text": [
      "torch.Size([16, 3]) torch.float32 torch.Size([16]) torch.float32\n",
      "tensor([[ 0.,  0.,  0.],\n",
      "        [ 0.,  0.,  5.],\n",
      "        [ 0.,  5., 13.],\n",
      "        [ 5., 13., 13.],\n",
      "        [13., 13.,  1.],\n",
      "        [ 0.,  0.,  0.],\n",
      "        [ 0.,  0., 15.],\n",
      "        [ 0., 15., 12.],\n",
      "        [15., 12.,  9.],\n",
      "        [12.,  9., 22.],\n",
      "        [ 9., 22.,  9.],\n",
      "        [22.,  9.,  1.],\n",
      "        [ 0.,  0.,  0.],\n",
      "        [ 0.,  0.,  1.],\n",
      "        [ 0.,  1., 22.],\n",
      "        [ 1., 22.,  1.]])\n",
      "tensor([ 5., 13., 13.,  1.,  0., 15., 12.,  9., 22.,  9.,  1.,  0.,  1., 22.,\n",
      "         1.,  0.])\n"
     ]
    }
   ],
   "source": [
    "print(X.shape, X.dtype, Y.shape, Y.dtype)\n",
    "print(X)\n",
    "print(Y)"
   ]
  },
  {
   "cell_type": "code",
   "execution_count": 76,
   "id": "e2c9b0d4-f3df-4b13-bcb6-8cb9434a338a",
   "metadata": {},
   "outputs": [],
   "source": [
    "# Embedding matrix/look-up table (table for embedding the 27 alphabetical characters)\n",
    "\n",
    "C = torch.randn(27, 2)"
   ]
  },
  {
   "cell_type": "code",
   "execution_count": 77,
   "id": "2fe2d1b3-c940-4b4d-823b-76c715bae435",
   "metadata": {},
   "outputs": [
    {
     "data": {
      "text/plain": [
       "tensor([[ 1.3399, -2.4392],\n",
       "        [ 0.2491,  0.7287],\n",
       "        [ 0.9423,  2.5457],\n",
       "        [ 1.8983, -0.7876],\n",
       "        [-1.0674, -0.1109],\n",
       "        [-0.9283, -1.9208],\n",
       "        [-0.1401,  1.1358],\n",
       "        [ 0.7916,  1.2085],\n",
       "        [ 0.5050,  0.1314],\n",
       "        [ 1.1475,  1.0135],\n",
       "        [ 0.1826,  1.5369],\n",
       "        [ 1.0209, -1.1005],\n",
       "        [-0.1744, -0.0509],\n",
       "        [-1.0586,  0.6450],\n",
       "        [ 1.4109, -1.0600],\n",
       "        [-0.9549,  1.7785],\n",
       "        [ 1.5576,  0.6574],\n",
       "        [-0.0051,  1.8975],\n",
       "        [-1.1549, -1.3384],\n",
       "        [-0.2702,  1.7332],\n",
       "        [-0.0734, -0.6737],\n",
       "        [-0.6820, -2.9194],\n",
       "        [-0.5700,  1.5197],\n",
       "        [-0.3822, -0.1921],\n",
       "        [-0.2074, -0.7838],\n",
       "        [-1.3177, -0.6732],\n",
       "        [ 0.3523,  0.8825]])"
      ]
     },
     "execution_count": 77,
     "metadata": {},
     "output_type": "execute_result"
    }
   ],
   "source": [
    "C"
   ]
  },
  {
   "cell_type": "code",
   "execution_count": null,
   "id": "0926e1a7-c757-4171-84b6-8419c05880e3",
   "metadata": {},
   "outputs": [],
   "source": []
  },
  {
   "cell_type": "code",
   "execution_count": null,
   "id": "50d45c3e-debc-4e5c-b82d-dea6733ef486",
   "metadata": {},
   "outputs": [],
   "source": []
  }
 ],
 "metadata": {
  "kernelspec": {
   "display_name": "Python 3 (ipykernel)",
   "language": "python",
   "name": "python3"
  },
  "language_info": {
   "codemirror_mode": {
    "name": "ipython",
    "version": 3
   },
   "file_extension": ".py",
   "mimetype": "text/x-python",
   "name": "python",
   "nbconvert_exporter": "python",
   "pygments_lexer": "ipython3",
   "version": "3.9.21"
  }
 },
 "nbformat": 4,
 "nbformat_minor": 5
}
