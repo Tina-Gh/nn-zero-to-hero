{
 "cells": [
  {
   "cell_type": "markdown",
   "id": "3635017a-9282-47d9-8151-fdf3e3ab9ada",
   "metadata": {},
   "source": [
    "### Basing the model off of the MLP paper Bengio et al. 2003:\n",
    "\n",
    "https://www.jmlr.org/papers/volume3/bengio03a/bengio03a.pdf\n",
    "\n",
    "(P.S: The paper uses 17000 words and applies word embedding. Here, the data is 'names.txt' and we apply character embedding.)"
   ]
  },
  {
   "cell_type": "code",
   "execution_count": 33,
   "id": "2485bd0e-c121-4695-9568-02105a6e901e",
   "metadata": {},
   "outputs": [],
   "source": [
    "# In the previous code (part 1), we imlemented 'bigram'. \n",
    "# Here in part 2, we are implementing 'mlp'. \n",
    "\n",
    "import torch\n",
    "import torch.nn.functional as F \n",
    "import matplotlib.pyplot as plt \n",
    "%matplotlib inline \n",
    "\n",
    "import random"
   ]
  },
  {
   "cell_type": "code",
   "execution_count": 34,
   "id": "3929858f-3b57-4675-a02f-0fc31be5ca43",
   "metadata": {},
   "outputs": [
    {
     "name": "stdout",
     "output_type": "stream",
     "text": [
      "['emma', 'olivia', 'ava', 'isabella', 'sophia', 'charlotte', 'mia', 'amelia']\n",
      "32033\n"
     ]
    }
   ],
   "source": [
    "# read in all the words: \n",
    "words = open(\"names.txt\", 'r').read().splitlines()\n",
    "print(words[0:8])\n",
    "print(len(words))"
   ]
  },
  {
   "cell_type": "code",
   "execution_count": 35,
   "id": "6aacb556-d0c4-4544-a570-66963b98b1ee",
   "metadata": {},
   "outputs": [
    {
     "name": "stdout",
     "output_type": "stream",
     "text": [
      "{'a': 1, 'b': 2, 'c': 3, 'd': 4, 'e': 5, 'f': 6, 'g': 7, 'h': 8, 'i': 9, 'j': 10, 'k': 11, 'l': 12, 'm': 13, 'n': 14, 'o': 15, 'p': 16, 'q': 17, 'r': 18, 's': 19, 't': 20, 'u': 21, 'v': 22, 'w': 23, 'x': 24, 'y': 25, 'z': 26, '.': 0}\n",
      "{1: 'a', 2: 'b', 3: 'c', 4: 'd', 5: 'e', 6: 'f', 7: 'g', 8: 'h', 9: 'i', 10: 'j', 11: 'k', 12: 'l', 13: 'm', 14: 'n', 15: 'o', 16: 'p', 17: 'q', 18: 'r', 19: 's', 20: 't', 21: 'u', 22: 'v', 23: 'w', 24: 'x', 25: 'y', 26: 'z', 0: '.'}\n"
     ]
    }
   ],
   "source": [
    "# build the vocabulary of characters to/from integers \n",
    "\n",
    "chars = sorted(list(set(''.join(words))))\n",
    "stoi = {s:i+1 for i,s in enumerate(chars)} \n",
    "stoi['.'] = 0\n",
    "itos = {i:s for s,i in stoi.items()}\n",
    "\n",
    "print(stoi)\n",
    "print(itos)"
   ]
  },
  {
   "cell_type": "code",
   "execution_count": 36,
   "id": "10e19d93-2e40-404a-8cc0-837e2ee32a69",
   "metadata": {},
   "outputs": [],
   "source": [
    "# building the dataset: \n",
    "\n",
    "block_size = 3 # = context length = how many characters do we take to predict the next one? \n",
    "X, Y = [], [] \n",
    "for w in words: \n",
    "    \n",
    "    # print(w)\n",
    "    context = [0]*block_size # provide padding before the first character \n",
    "    for ch in w + '.':\n",
    "        ix = stoi[ch]\n",
    "        X.append(context) \n",
    "        Y.append(ix)\n",
    "        # print(''.join(itos[i] for i in context), '--->', ch) # ch = itos[ix]\n",
    "        context = context[1:] + [ix] #update 'context' \n",
    "X = torch.tensor(X)\n",
    "Y = torch.Tensor(Y)"
   ]
  },
  {
   "cell_type": "code",
   "execution_count": 37,
   "id": "4b74fa45-c51d-4970-9cbe-f051c39d8a36",
   "metadata": {},
   "outputs": [
    {
     "name": "stdout",
     "output_type": "stream",
     "text": [
      "torch.Size([228146, 3]) torch.int64 torch.Size([228146]) torch.float32\n",
      "tensor([[ 0,  0,  0],\n",
      "        [ 0,  0,  5],\n",
      "        [ 0,  5, 13],\n",
      "        ...,\n",
      "        [26, 26, 25],\n",
      "        [26, 25, 26],\n",
      "        [25, 26, 24]])\n",
      "tensor([ 5., 13., 13.,  ..., 26., 24.,  0.])\n"
     ]
    }
   ],
   "source": [
    "print(X.shape, X.dtype, Y.shape, Y.dtype)\n",
    "print(X)\n",
    "print(Y)"
   ]
  },
  {
   "cell_type": "code",
   "execution_count": 38,
   "id": "e2c9b0d4-f3df-4b13-bcb6-8cb9434a338a",
   "metadata": {
    "scrolled": true
   },
   "outputs": [
    {
     "name": "stdout",
     "output_type": "stream",
     "text": [
      "torch.Size([228146, 3, 2])\n",
      "tensor([[[ 0.5422, -0.0506],\n",
      "         [ 0.5422, -0.0506],\n",
      "         [ 0.5422, -0.0506]],\n",
      "\n",
      "        [[ 0.5422, -0.0506],\n",
      "         [ 0.5422, -0.0506],\n",
      "         [-0.3963,  0.3221]]])\n"
     ]
    }
   ],
   "source": [
    "# Embedding matrix/look-up table (table for embedding the 27 alphabetical characters)\n",
    "\n",
    "C = torch.randn((27, 2))\n",
    "emb = C[X]\n",
    "\n",
    "print(emb.shape)\n",
    "print(emb[:2])"
   ]
  },
  {
   "cell_type": "code",
   "execution_count": 39,
   "id": "50d45c3e-debc-4e5c-b82d-dea6733ef486",
   "metadata": {},
   "outputs": [],
   "source": [
    "# Constructing the first hidden layer: \n",
    "\n",
    "w1 = torch.randn((6, 100)) #6=emb.shape[1]*emb.shape[2]  #100 hidden neurons\n",
    "b1 = torch.randn((100))\n",
    "\n",
    "# torch.cat([emb[:, 0, :], emb[:, 1, :], emb[:, 2, :]], 1).shape \n",
    "#make it so that emb(32, 3, 2) would have shape (32, 6) so that we can multiply it by w1(6,100).\n",
    "# which is the same as: \n",
    "# torch.cat(torch.unbind(emb, dim=1), dim=1).shape\n",
    "# which is also the same as: \n",
    "# emb.view(); with view() being more efficinet memory wise! \n",
    "# link: https://blog.ezyang.com/2019/05/pytorch-internals/\n",
    "\n",
    "h = torch.tanh(emb.view(-1, 6) @ w1 + b1) # -1: Pytorch figures it out itself. # the elemnets of 'h' are between (-1,1) because of tanh. \n",
    "# shape = (32, 100)\n",
    "\n",
    "# constructing the second hidden layer: \n",
    "w2 = torch.randn((100, 27))\n",
    "b2 = torch.randn(27)\n",
    "logits = h @ w2 + b2 # the outputs of teh neural net # shape = (32, 27)\n",
    "\n",
    "# softmax: \n",
    "counts = logits.exp() \n",
    "prob = counts / counts.sum(1, keepdims=True) # shape = (32, 27)"
   ]
  },
  {
   "cell_type": "code",
   "execution_count": 40,
   "id": "3e96dde9-0b27-4e02-ba1a-11dd46c35fc1",
   "metadata": {},
   "outputs": [
    {
     "data": {
      "text/plain": [
       "tensor([ 5., 13., 13.,  ..., 26., 24.,  0.])"
      ]
     },
     "execution_count": 40,
     "metadata": {},
     "output_type": "execute_result"
    }
   ],
   "source": [
    "Y"
   ]
  },
  {
   "cell_type": "code",
   "execution_count": 41,
   "id": "918e3820-a34f-45da-8611-554fbcf9dae3",
   "metadata": {},
   "outputs": [],
   "source": [
    "# loss = -prob[torch.arange(32), Y.long()].log().mean() # long() because \n",
    "# print(loss)"
   ]
  },
  {
   "cell_type": "markdown",
   "id": "49f4891c-eb00-4cc3-97c4-de9f8722a115",
   "metadata": {},
   "source": [
    "## ---------------------Now making it more respectable: ---------------------"
   ]
  },
  {
   "cell_type": "code",
   "execution_count": 42,
   "id": "8f206880-14b1-4cc4-8e4e-fbf7966d5bac",
   "metadata": {},
   "outputs": [
    {
     "name": "stdout",
     "output_type": "stream",
     "text": [
      "torch.Size([228146, 3]) torch.Size([228146])\n"
     ]
    }
   ],
   "source": [
    "print(X.shape, Y.shape)"
   ]
  },
  {
   "cell_type": "code",
   "execution_count": 43,
   "id": "75979a1f-2202-4d49-b6ec-59d7afa30a9a",
   "metadata": {},
   "outputs": [],
   "source": [
    "g = torch.Generator().manual_seed(2147483647)\n",
    "C = torch.randn((27, 2), generator=g)\n",
    "w1 = torch.randn((6, 100), generator=g)\n",
    "b1 = torch.randn(100, generator=g)\n",
    "w2 = torch.randn((100, 27), generator=g)\n",
    "b2 = torch.randn(27, generator=g)\n",
    "parameters = [C, w1, b1, w2, b2]"
   ]
  },
  {
   "cell_type": "code",
   "execution_count": 44,
   "id": "6c284f92-1edb-47ab-bfc2-158443e8f725",
   "metadata": {},
   "outputs": [
    {
     "data": {
      "text/plain": [
       "3481"
      ]
     },
     "execution_count": 44,
     "metadata": {},
     "output_type": "execute_result"
    }
   ],
   "source": [
    "sum(p.nelement() for p in parameters)"
   ]
  },
  {
   "cell_type": "code",
   "execution_count": 45,
   "id": "2c6467ba-6041-4a1a-b449-35784abbf2a5",
   "metadata": {},
   "outputs": [],
   "source": [
    "for p in parameters: \n",
    "    p.requires_grad = True"
   ]
  },
  {
   "cell_type": "code",
   "execution_count": 46,
   "id": "4fdf8c64-553f-4828-86a5-03f08b81a6a6",
   "metadata": {},
   "outputs": [],
   "source": [
    "lre = torch.linspace(-3, 0, 1000)\n",
    "lrs = 10 ** lre # spacing exponentially "
   ]
  },
  {
   "cell_type": "code",
   "execution_count": 47,
   "id": "23815733-4d33-433e-9e54-fcd3c2d9bfa1",
   "metadata": {},
   "outputs": [],
   "source": [
    "lri = [] \n",
    "lossi = []\n",
    "\n",
    "for i in range(10000):\n",
    "\n",
    "    # minibatch construct\n",
    "    ix = torch.randint(0, X.shape[0], (32,))\n",
    "    \n",
    "    # Forward pass:\n",
    "    emb = C[X[ix]] # (32, 3, 2)\n",
    "    h = torch.tanh(emb.view(-1, 6) @ w1 + b1) #(32, 100)\n",
    "    logits = h @ w2 + b2 # (32, 27)\n",
    "    # counts = logits.exp() # this line and the 2 below are basiclaly classification, so we can use crossentropy. \n",
    "    # prob = counts / counts.sum(1, keepdims=True) \n",
    "    # loss = -prob[torch.arange(32), Y.long()].log().mean()\n",
    "    loss = F.cross_entropy(logits, Y[ix].long())\n",
    "    # print(loss.item())\n",
    "    \n",
    "    # Backward pass:\n",
    "    for p in parameters: \n",
    "        p.grad = None\n",
    "    loss.backward()\n",
    "    \n",
    "    # Update parameters: \n",
    "    # lr = lrs[i]\n",
    "    lr = 0.1\n",
    "    for p in parameters: \n",
    "        p.data += -lr * p.grad\n",
    "\n",
    "    # Track stats: \n",
    "    lri.append(lr) \n",
    "    lossi.append(loss.item())\n",
    "\n",
    "# print(loss.item())\n",
    "# plt.plot(lri, lossi)"
   ]
  },
  {
   "cell_type": "markdown",
   "id": "0774f0b3-f62f-44a4-9823-df62040e78d4",
   "metadata": {},
   "source": [
    "## ---------------------Now using train/test/dev dataset: ---------------------"
   ]
  },
  {
   "cell_type": "code",
   "execution_count": 95,
   "id": "aae29f11-28e5-443c-a9de-cb679999df99",
   "metadata": {},
   "outputs": [
    {
     "name": "stdout",
     "output_type": "stream",
     "text": [
      "torch.Size([182512, 3]) torch.Size([182512])\n",
      "torch.Size([22860, 3]) torch.Size([22860])\n",
      "torch.Size([22774, 3]) torch.Size([22774])\n"
     ]
    }
   ],
   "source": [
    "# training split, dev/validation split, test split: 80%, 10%, 10% \n",
    "\n",
    "# build the dataset: \n",
    "\n",
    "def build_dataset(words): \n",
    "    block_size = 3 # = context length = how many characters do we take to predict the next one? \n",
    "    X, Y = [], [] \n",
    "    for w in words: \n",
    "        \n",
    "        # print(w)\n",
    "        context = [0]*block_size # provide padding before the first character \n",
    "        for ch in w + '.':\n",
    "            ix = stoi[ch]\n",
    "            X.append(context) \n",
    "            Y.append(ix)\n",
    "            # print(''.join(itos[i] for i in context), '--->', ch) # ch = itos[ix]\n",
    "            context = context[1:] + [ix] #update 'context' \n",
    "    X = torch.tensor(X)\n",
    "    Y = torch.Tensor(Y)\n",
    "    print(X.shape, Y.shape) \n",
    "    return X, Y \n",
    "\n",
    "random.seed(42)\n",
    "random.shuffle(words) \n",
    "n1 = int(0.8*len(words))\n",
    "n2 = int(0.9*len(words))\n",
    "\n",
    "Xtr, Ytr = build_dataset(words[:n1])\n",
    "Xdev, Ydev = build_dataset(words[n1:n2])\n",
    "Xte, Yte = build_dataset(words[n2:])"
   ]
  },
  {
   "cell_type": "code",
   "execution_count": 96,
   "id": "54526bf9-98b5-42dc-b242-534949eedeb9",
   "metadata": {},
   "outputs": [
    {
     "name": "stdout",
     "output_type": "stream",
     "text": [
      "torch.Size([182512, 3]) torch.Size([182512])\n"
     ]
    }
   ],
   "source": [
    "print(Xtr.shape, Ytr.shape)"
   ]
  },
  {
   "cell_type": "code",
   "execution_count": 97,
   "id": "cf8fe259-d147-4865-9b47-a31e35012cc5",
   "metadata": {},
   "outputs": [
    {
     "name": "stdout",
     "output_type": "stream",
     "text": [
      "11897\n"
     ]
    }
   ],
   "source": [
    "g = torch.Generator().manual_seed(2147483647) # for reproducibility \n",
    "C = torch.randn((27, 10), generator=g)\n",
    "w1 = torch.randn((30, 200), generator=g)\n",
    "b1 = torch.randn(200, generator=g)\n",
    "w2 = torch.randn((200, 27), generator=g)\n",
    "b2 = torch.randn(27, generator=g)\n",
    "parameters = [C, w1, b1, w2, b2]\n",
    "\n",
    "print(sum(p.nelement() for p in parameters)) # number of parameters in total \n",
    "\n",
    "for p in parameters: \n",
    "    p.requires_grad = True"
   ]
  },
  {
   "cell_type": "code",
   "execution_count": 98,
   "id": "3ccccac4-fd52-48db-94b0-459a047c9993",
   "metadata": {},
   "outputs": [],
   "source": [
    "lre = torch.linspace(-3, 0, 1000)\n",
    "lrs = 10 ** lre # spacing exponentially \n",
    "\n",
    "\n",
    "lri = [] \n",
    "lossi = []\n",
    "stepi = []\n",
    "lossilog = []"
   ]
  },
  {
   "cell_type": "code",
   "execution_count": 117,
   "id": "1cc83d9a-8734-4113-b8f2-9328fb5b6505",
   "metadata": {},
   "outputs": [],
   "source": [
    "for i in range(200000):\n",
    "\n",
    "    # minibatch construct\n",
    "    ix = torch.randint(0, Xtr.shape[0], (32,))\n",
    "    \n",
    "    # Forward pass:\n",
    "    emb = C[Xtr[ix]] # (32, 3, 2)\n",
    "    h = torch.tanh(emb.view(-1, 30) @ w1 + b1) #(32, 100)\n",
    "    logits = h @ w2 + b2 # (32, 27)\n",
    "    # counts = logits.exp() # this line and the 2 below are basiclaly classification, so we can use crossentropy. \n",
    "    # prob = counts / counts.sum(1, keepdims=True) \n",
    "    # loss = -prob[torch.arange(32), Y.long()].log().mean()\n",
    "    loss = F.cross_entropy(logits, Ytr[ix].long())\n",
    "    # print(loss.item())\n",
    "    \n",
    "    # Backward pass:\n",
    "    for p in parameters: \n",
    "        p.grad = None\n",
    "    loss.backward()\n",
    "    \n",
    "    # Update parameters: \n",
    "    # lr = lrs[i]\n",
    "    lr = 0.01\n",
    "    lr = 0.1 if i<100000 else 0.01 # dynamic learning rate :D\n",
    "    for p in parameters: \n",
    "        p.data += -lr * p.grad\n",
    "\n",
    "    # Track stats: \n",
    "    # lri.append(lr)  \n",
    "    stepi.append(i)\n",
    "    lossi.append(loss.item())\n",
    "    lossilog.append(loss.log10().item())\n",
    "\n",
    "# print(loss.item())\n",
    "# plt.plot(lri, lossi)"
   ]
  },
  {
   "cell_type": "code",
   "execution_count": 118,
   "id": "66fbdad2-e870-4e35-b10d-2eab26472ff8",
   "metadata": {},
   "outputs": [
    {
     "name": "stdout",
     "output_type": "stream",
     "text": [
      "2.211822271347046\n"
     ]
    }
   ],
   "source": [
    "print(loss.item())"
   ]
  },
  {
   "cell_type": "code",
   "execution_count": 119,
   "id": "55ae7685-ddfb-4f98-8893-22a068832079",
   "metadata": {},
   "outputs": [
    {
     "data": {
      "text/plain": [
       "[<matplotlib.lines.Line2D at 0x735c579f69a0>]"
      ]
     },
     "execution_count": 119,
     "metadata": {},
     "output_type": "execute_result"
    },
    {
     "data": {
      "image/png": "[encoded data removed]",
      "text/plain": [
       "<Figure size 640x480 with 1 Axes>"
      ]
     },
     "metadata": {},
     "output_type": "display_data"
    }
   ],
   "source": [
    "plt.plot(stepi, lossi)"
   ]
  },
  {
   "cell_type": "code",
   "execution_count": 120,
   "id": "4c30051f-2a2c-463f-9ef2-898789432ba3",
   "metadata": {},
   "outputs": [
    {
     "data": {
      "text/plain": [
       "[<matplotlib.lines.Line2D at 0x735c579f7a60>]"
      ]
     },
     "execution_count": 120,
     "metadata": {},
     "output_type": "execute_result"
    },
    {
     "data": {
      "image/png": "[encoded data removed]",
      "text/plain": [
       "<Figure size 640x480 with 1 Axes>"
      ]
     },
     "metadata": {},
     "output_type": "display_data"
    }
   ],
   "source": [
    "plt.plot(stepi, lossilog)"
   ]
  },
  {
   "cell_type": "code",
   "execution_count": null,
   "id": "82f8bfde-87ee-4678-941f-69275a0197a4",
   "metadata": {},
   "outputs": [],
   "source": [
    "# training loss:  \n",
    "\n",
    "emb = C[Xtr] # (32, 3, 2)\n",
    "h = torch.tanh(emb.view(-1, 30) @ w1 + b1) #(32, 100)\n",
    "logits = h @ w2 + b2 # (32, 27)\n",
    "loss = F.cross_entropy(logits, Ytr.long())\n",
    "print(loss.item())"
   ]
  },
  {
   "cell_type": "code",
   "execution_count": 121,
   "id": "6a42efa7-ea1d-4268-9ffa-9de369682878",
   "metadata": {},
   "outputs": [
    {
     "name": "stdout",
     "output_type": "stream",
     "text": [
      "2.144472122192383\n"
     ]
    }
   ],
   "source": [
    "# validation loss: \n",
    "\n",
    "emb = C[Xdev] # (32, 3, 2)\n",
    "h = torch.tanh(emb.view(-1, 30) @ w1 + b1) #(32, 100)\n",
    "logits = h @ w2 + b2 # (32, 27)\n",
    "loss = F.cross_entropy(logits, Ydev.long())\n",
    "print(loss.item())"
   ]
  },
  {
   "cell_type": "code",
   "execution_count": null,
   "id": "abb56bff-24cb-4bee-b9eb-449d059cb0cb",
   "metadata": {},
   "outputs": [],
   "source": [
    "# test loss: \n",
    "\n",
    "emb = C[Xte] # (32, 3, 2)\n",
    "h = torch.tanh(emb.view(-1, 30) @ w1 + b1) #(32, 100)\n",
    "logits = h @ w2 + b2 # (32, 27)\n",
    "loss = F.cross_entropy(logits, Yte.long())\n",
    "print(loss.item())"
   ]
  },
  {
   "cell_type": "code",
   "execution_count": 122,
   "id": "afb2b66c-fcb4-4bda-b7f3-cd5a2674bfe3",
   "metadata": {},
   "outputs": [
    {
     "data": {
      "image/png": "[encoded data removed]",
      "text/plain": [
       "<Figure size 800x800 with 1 Axes>"
      ]
     },
     "metadata": {},
     "output_type": "display_data"
    }
   ],
   "source": [
    "# visualiza dimensions 0 and 1 of the embedding matrix C for all characters\n",
    "\n",
    "plt.figure(figsize=(8, 8))\n",
    "plt.scatter(C[:,0].data, C[:,1].data, s=200)\n",
    "plt.grid('minor')\n",
    "for i in range(C.shape[0]):\n",
    "    plt.text(C[i,0].item(), C[i,1].item(), itos[i], ha=\"center\", va=\"center\", color=\"white\")"
   ]
  },
  {
   "cell_type": "code",
   "execution_count": 125,
   "id": "c46a0965-3ada-4112-851a-78450a45c967",
   "metadata": {},
   "outputs": [
    {
     "name": "stdout",
     "output_type": "stream",
     "text": [
      "carmah.\n",
      "quillivith.\n",
      "miliataly.\n",
      "skarsha.\n",
      "jazhuen.\n",
      "deliah.\n",
      "jareen.\n",
      "nellara.\n",
      "chaiivia.\n",
      "leigh.\n",
      "ham.\n",
      "jorn.\n",
      "quinthonor.\n",
      "malian.\n",
      "quinterri.\n",
      "jarynix.\n",
      "kaeliigh.\n",
      "brex.\n",
      "edi.\n",
      "abgan.\n"
     ]
    }
   ],
   "source": [
    "# sample from the dataset \n",
    "\n",
    "g = torch.Generator().manual_seed(2147483647 + 10)\n",
    "\n",
    "for _ in range(20): \n",
    "    out = [] \n",
    "    context = [0] * block_size # initializa with all ... \n",
    "    while True: \n",
    "        emb = C[torch.tensor([context])] # (1, block_size, d)\n",
    "        h = torch.tanh(emb.view(1, -1) @ w1 + b1)\n",
    "        logits = h @ w2 + b2 \n",
    "        probs = F.softmax(logits, dim=1)\n",
    "        ix =  torch.multinomial(probs, num_samples=1, generator=g).item()\n",
    "        context = context[1:] + [ix]\n",
    "        out.append(ix) \n",
    "        if ix == 0: \n",
    "            break  \n",
    "    print(''.join(itos[i] for i in out))"
   ]
  },
  {
   "cell_type": "code",
   "execution_count": null,
   "id": "da004bd6-d01c-46db-abab-2e345e98ccc6",
   "metadata": {},
   "outputs": [],
   "source": []
  }
 ],
 "metadata": {
  "kernelspec": {
   "display_name": "Python 3 (ipykernel)",
   "language": "python",
   "name": "python3"
  },
  "language_info": {
   "codemirror_mode": {
    "name": "ipython",
    "version": 3
   },
   "file_extension": ".py",
   "mimetype": "text/x-python",
   "name": "python",
   "nbconvert_exporter": "python",
   "pygments_lexer": "ipython3",
   "version": "3.9.21"
  }
 },
 "nbformat": 4,
 "nbformat_minor": 5
}
